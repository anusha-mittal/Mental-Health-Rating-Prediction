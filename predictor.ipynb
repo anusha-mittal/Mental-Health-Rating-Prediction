{
 "cells": [
  {
   "cell_type": "code",
   "execution_count": 12,
   "id": "adolescent-expansion",
   "metadata": {},
   "outputs": [],
   "source": [
    "import numpy as np\n",
    "import joblib"
   ]
  },
  {
   "cell_type": "code",
   "execution_count": 13,
   "id": "considerable-biography",
   "metadata": {},
   "outputs": [],
   "source": [
    "filename = 'enc.sav'\n",
    "loaded_enc = joblib.load(filename)"
   ]
  },
  {
   "cell_type": "code",
   "execution_count": 14,
   "id": "fleet-woman",
   "metadata": {},
   "outputs": [
    {
     "name": "stdout",
     "output_type": "stream",
     "text": [
      "0\n"
     ]
    }
   ],
   "source": [
    "print(int(loaded_enc[0].transform([\"Maybe\"])))"
   ]
  },
  {
   "cell_type": "code",
   "execution_count": 15,
   "id": "loved-cookbook",
   "metadata": {},
   "outputs": [],
   "source": [
    "filename = 'mymodel.sav'\n",
    "model = joblib.load(filename)"
   ]
  },
  {
   "cell_type": "code",
   "execution_count": 16,
   "id": "generic-accordance",
   "metadata": {},
   "outputs": [],
   "source": [
    "def preprocess(arr):\n",
    "    #label encoding\n",
    "    arr[2]=int(loaded_enc[0].transform([arr[2]]))\n",
    "    arr[5]=int(loaded_enc[1].transform([arr[5]]))\n",
    "    arr[10]=int(loaded_enc[2].transform([arr[10]]))\n",
    "    arr=np.array(arr)\n",
    "    return arr\n",
    "    \n",
    "    \n",
    "    "
   ]
  },
  {
   "cell_type": "code",
   "execution_count": 17,
   "id": "incredible-headset",
   "metadata": {},
   "outputs": [],
   "source": [
    "arr=[19,1,\"Maybe\",4,4,\"No\",4,5,3,2,\"No\"]"
   ]
  },
  {
   "cell_type": "code",
   "execution_count": 18,
   "id": "cosmetic-impact",
   "metadata": {},
   "outputs": [],
   "source": [
    "arr1=[20,2,\"No\",4,4,\"Yes\",4,5,3,2,\"Yes\"]"
   ]
  },
  {
   "cell_type": "code",
   "execution_count": null,
   "id": "cordless-india",
   "metadata": {},
   "outputs": [],
   "source": []
  },
  {
   "cell_type": "code",
   "execution_count": 19,
   "id": "northern-finnish",
   "metadata": {},
   "outputs": [],
   "source": [
    "def predict(arr):\n",
    "    X=preprocess(arr)\n",
    "    X=X.reshape(1, -1)\n",
    "    #print(X)\n",
    "    y=model.predict(X)\n",
    "    return int(y)\n",
    "    \n",
    "    "
   ]
  },
  {
   "cell_type": "code",
   "execution_count": 20,
   "id": "placed-handling",
   "metadata": {},
   "outputs": [],
   "source": [
    "y=predict(arr)"
   ]
  },
  {
   "cell_type": "code",
   "execution_count": 21,
   "id": "prime-helicopter",
   "metadata": {},
   "outputs": [
    {
     "name": "stdout",
     "output_type": "stream",
     "text": [
      "2\n"
     ]
    }
   ],
   "source": [
    "print(y)"
   ]
  },
  {
   "cell_type": "code",
   "execution_count": 22,
   "id": "intelligent-norfolk",
   "metadata": {},
   "outputs": [
    {
     "name": "stdout",
     "output_type": "stream",
     "text": [
      "1\n"
     ]
    }
   ],
   "source": [
    "y=predict(arr1)\n",
    "print(y)"
   ]
  },
  {
   "cell_type": "code",
   "execution_count": null,
   "id": "automotive-midwest",
   "metadata": {},
   "outputs": [],
   "source": []
  }
 ],
 "metadata": {
  "kernelspec": {
   "display_name": "Python 3",
   "language": "python",
   "name": "python3"
  },
  "language_info": {
   "codemirror_mode": {
    "name": "ipython",
    "version": 3
   },
   "file_extension": ".py",
   "mimetype": "text/x-python",
   "name": "python",
   "nbconvert_exporter": "python",
   "pygments_lexer": "ipython3",
   "version": "3.8.6"
  }
 },
 "nbformat": 4,
 "nbformat_minor": 5
}
